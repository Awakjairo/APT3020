{
 "cells": [
  {
   "cell_type": "code",
   "execution_count": 2,
   "metadata": {},
   "outputs": [
    {
     "name": "stdout",
     "output_type": "stream",
     "text": [
      "Medical Diagnosis System\n",
      "Available symptoms: sneezing, runny_nose, cough, fever, body_aches, fatigue, shortness_of_breath, chest_pain, weight_loss, night_sweats, wheezing, facial_pain\n"
     ]
    },
    {
     "name": "stdout",
     "output_type": "stream",
     "text": [
      "\n",
      "Possible diagnoses:\n",
      "- Common Cold (33.33% certainty, Severity: mild): rest and fluids\n",
      "- Sinusitis (33.33% certainty, Severity: mild): nasal spray, pain relievers\n",
      "\n",
      "Patient History:\n",
      "- 2025-02-09: Common Cold\n"
     ]
    }
   ],
   "source": [
    "import datetime\n",
    "\n",
    "class KnowledgeBase:\n",
    "    def __init__(self):\n",
    "        self.diseases = {\n",
    "            \"Common Cold\": {\"symptoms\": [\"sneezing\", \"runny_nose\", \"cough\"], \"treatment\": \"rest and fluids\", \"severity\": \"mild\"},\n",
    "            \"Flu\": {\"symptoms\": [\"fever\", \"cough\", \"body_aches\", \"fatigue\"], \"treatment\": \"rest and fluids\", \"severity\": \"moderate\"},\n",
    "            \"Pneumonia\": {\"symptoms\": [\"fever\", \"cough\", \"shortness_of_breath\", \"chest_pain\"], \"treatment\": \"antibiotics\", \"severity\": \"severe\"},\n",
    "            \"Tuberculosis\": {\"symptoms\": [\"cough\", \"weight_loss\", \"night_sweats\", \"fatigue\"], \"treatment\": \"antibiotics\", \"severity\": \"severe\"},\n",
    "            \"Bronchitis\": {\"symptoms\": [\"cough\", \"chest_pain\", \"wheezing\"], \"treatment\": \"rest and inhalers\", \"severity\": \"moderate\"},\n",
    "            \"Sinusitis\": {\"symptoms\": [\"sneezing\", \"runny_nose\", \"facial_pain\"], \"treatment\": \"nasal spray, pain relievers\", \"severity\": \"mild\"},\n",
    "        }\n",
    "        \n",
    "        self.relationships = {}\n",
    "        for disease, info in self.diseases.items():\n",
    "            for symptom in info[\"symptoms\"]:\n",
    "                self.relationships.setdefault(symptom, []).append(disease)\n",
    "                \n",
    "        self.patient_history = {}\n",
    "    \n",
    "    def get_disease_probabilities(self, symptoms, duration):\n",
    "        possible = {}\n",
    "        for symptom in symptoms:\n",
    "            for disease in self.relationships.get(symptom, []):\n",
    "                possible[disease] = possible.get(disease, 0) + 1\n",
    "        \n",
    "        probabilities = []\n",
    "        for disease, count in possible.items():\n",
    "            total_symptoms = len(self.diseases[disease][\"symptoms\"])\n",
    "            probability = (count / total_symptoms) * 100\n",
    "            \n",
    "            # Adjust probability based on duration (longer symptoms suggest severe cases)\n",
    "            if duration > 7 and self.diseases[disease][\"severity\"] in [\"moderate\", \"severe\"]:\n",
    "                probability += 10\n",
    "            probabilities.append((disease, probability))\n",
    "        \n",
    "        probabilities.sort(key=lambda x: x[1], reverse=True)\n",
    "        return probabilities\n",
    "    \n",
    "    def update_patient_history(self, name, diagnosis):\n",
    "        date = datetime.date.today().isoformat()\n",
    "        self.patient_history.setdefault(name, []).append((date, diagnosis))\n",
    "    \n",
    "    def get_patient_history(self, name):\n",
    "        return self.patient_history.get(name, [])\n",
    "\n",
    "# Create instance\n",
    "kb = KnowledgeBase()\n",
    "\n",
    "print(\"Medical Diagnosis System\")\n",
    "print(\"Available symptoms:\", \", \".join(kb.relationships.keys()))\n",
    "\n",
    "name = input(\"Enter your name: \")\n",
    "user_input = input(\"Enter your symptoms (comma-separated): \").lower().replace(\" \", \"_\").split(',')\n",
    "symptoms = [s.strip() for s in user_input if s.strip() in kb.relationships]\n",
    "duration = int(input(\"Enter how many days you've had these symptoms: \"))\n",
    "\n",
    "if not symptoms:\n",
    "    print(\"No valid symptoms entered.\")\n",
    "else:\n",
    "    diagnoses = kb.get_disease_probabilities(symptoms, duration)\n",
    "    \n",
    "    if diagnoses:\n",
    "        print(\"\\nPossible diagnoses:\")\n",
    "        for disease, probability in diagnoses:\n",
    "            severity = kb.diseases[disease]['severity']\n",
    "            treatment = kb.diseases[disease]['treatment']\n",
    "            print(f\"- {disease} ({probability:.2f}% certainty, Severity: {severity}): {treatment}\")\n",
    "            \n",
    "        kb.update_patient_history(name, diagnoses[0][0])  # Save most probable diagnosis\n",
    "    else:\n",
    "        print(\"\\nNo matching diagnoses found.\")\n",
    "\n",
    "# Display patient history\n",
    "history = kb.get_patient_history(name)\n",
    "if history:\n",
    "    print(\"\\nPatient History:\")\n",
    "    for date, diag in history:\n",
    "        print(f\"- {date}: {diag}\")"
   ]
  }
 ],
 "metadata": {
  "kernelspec": {
   "display_name": "Python 3",
   "language": "python",
   "name": "python3"
  },
  "language_info": {
   "codemirror_mode": {
    "name": "ipython",
    "version": 3
   },
   "file_extension": ".py",
   "mimetype": "text/x-python",
   "name": "python",
   "nbconvert_exporter": "python",
   "pygments_lexer": "ipython3",
   "version": "3.12.2"
  }
 },
 "nbformat": 4,
 "nbformat_minor": 2
}
