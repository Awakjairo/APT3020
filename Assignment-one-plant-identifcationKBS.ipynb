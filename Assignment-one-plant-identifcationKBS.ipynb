{
 "cells": [
  {
   "cell_type": "code",
   "execution_count": 2,
   "metadata": {},
   "outputs": [
    {
     "name": "stdout",
     "output_type": "stream",
     "text": [
      "\n",
      "Welcome to the Plant Identification Assistant!\n",
      "\n",
      "Enter your preferences for plant identification:\n"
     ]
    },
    {
     "name": "stdout",
     "output_type": "stream",
     "text": [
      "\n",
      "Processing your preferences...\n",
      "Recommendation: This plant is a Maple.\n",
      "Thank you for using the Plant Identification Assistant!\n"
     ]
    }
   ],
   "source": [
    "import collections.abc\n",
    "collections.Mapping = collections.abc.Mapping\n",
    "\n",
    "from experta import *\n",
    "\n",
    "# Create PlantIdentification class that is derived from KnowledgeEngine\n",
    "class PlantIdentification(KnowledgeEngine):\n",
    "\n",
    "    # Create rules for plant identification\n",
    "    @Rule(Fact(category=\"plant\"), Fact(leaf_color=\"green\"), Fact(leaf_shape=\"lobed\"), Fact(habitat=\"deciduous forests\"))\n",
    "    def identify_maple(self):\n",
    "        print(\"Recommendation: This plant is a Maple.\")\n",
    "\n",
    "    @Rule(Fact(category=\"plant\"), Fact(leaf_color=\"green\"), Fact(leaf_shape=\"triangular\"), Fact(habitat=\"wetlands\"))\n",
    "    def identify_birch(self):\n",
    "        print(\"Recommendation: This plant is a Birch.\")\n",
    "\n",
    "    @Rule(Fact(category=\"plant\"), Fact(leaf_color=\"green\"), Fact(leaf_shape=\"needle-like\"), Fact(habitat=\"coniferous forests\"))\n",
    "    def identify_pine(self):\n",
    "        print(\"Recommendation: This plant is a Pine.\")\n",
    "\n",
    "    @Rule(Fact(category=\"plant\"), Fact(leaf_color=\"green\"), Fact(leaf_shape=\"spiny\"), Fact(habitat=\"deserts\"))\n",
    "    def identify_cactus(self):\n",
    "        print(\"Recommendation: This plant is a Cactus.\")\n",
    "\n",
    "    @Rule(Fact(category=\"plant\"), Fact(leaf_color=\"red\"), Fact(leaf_shape=\"lobed\"), Fact(habitat=\"wetlands\"))\n",
    "    def identify_red_maple(self):\n",
    "        print(\"Recommendation: This plant is a Red Maple.\")\n",
    "\n",
    "    # Handle missing inputs or for error handling\n",
    "    @Rule(NOT(Fact(category=W())), salience=-1)\n",
    "    def ask_category(self):\n",
    "        print(\"Error: Please specify a category (e.g., plant).\")\n",
    "\n",
    "    @Rule(NOT(Fact(leaf_color=W())), salience=-1)\n",
    "    def ask_leaf_color(self):\n",
    "        print(\"Error: Please specify the leaf color (e.g., green, red).\")\n",
    "\n",
    "    @Rule(NOT(Fact(leaf_shape=W())), salience=-1)\n",
    "    def ask_leaf_shape(self):\n",
    "        print(\"Error: Please specify the leaf shape (e.g., lobed, triangular, needle-like).\")\n",
    "\n",
    "    @Rule(NOT(Fact(habitat=W())), salience=-1)\n",
    "    def ask_habitat(self):\n",
    "        print(\"Error: Please specify the habitat (e.g., deciduous forests, wetlands, deserts).\")\n",
    "\n",
    "# Function to collect user input and run the plant identification assistant\n",
    "def get_plant_identification():\n",
    "    # Create an instance of the PlantIdentification class\n",
    "    engine = PlantIdentification()\n",
    "\n",
    "    # Reset the engine for new inputs\n",
    "    engine.reset()\n",
    "  \n",
    "    print(\"\\nWelcome to the Plant Identification Assistant!\")\n",
    "    while True:\n",
    "        print(\"\\nEnter your preferences for plant identification:\")\n",
    "\n",
    "        # Get user inputs\n",
    "        category = input(\"Category (plant): \").strip().lower()\n",
    "        engine.declare(Fact(category=category))\n",
    "\n",
    "        leaf_color = input(\"Leaf color (e.g., green, red): \").strip().lower()\n",
    "        engine.declare(Fact(leaf_color=leaf_color))\n",
    "\n",
    "        leaf_shape = input(\"Leaf shape (e.g., lobed, triangular, needle-like): \").strip().lower()\n",
    "        engine.declare(Fact(leaf_shape=leaf_shape))\n",
    "\n",
    "        habitat = input(\"Habitat (e.g., deciduous forests, wetlands, deserts): \").strip().lower()\n",
    "        engine.declare(Fact(habitat=habitat))\n",
    "\n",
    "        # Run the engine \n",
    "        print(\"\\nProcessing your preferences...\")\n",
    "        engine.run()\n",
    "\n",
    "        # Ask for another identification\n",
    "        another = input(\"\\nWould you like to identify another plant? (yes/no): \").strip().lower()\n",
    "        if another != \"yes\":\n",
    "            print(\"Thank you for using the Plant Identification Assistant!\")\n",
    "            break\n",
    "\n",
    "# Run the plant identification assistant\n",
    "get_plant_identification()"
   ]
  }
 ],
 "metadata": {
  "kernelspec": {
   "display_name": "Python 3",
   "language": "python",
   "name": "python3"
  },
  "language_info": {
   "codemirror_mode": {
    "name": "ipython",
    "version": 3
   },
   "file_extension": ".py",
   "mimetype": "text/x-python",
   "name": "python",
   "nbconvert_exporter": "python",
   "pygments_lexer": "ipython3",
   "version": "3.12.2"
  }
 },
 "nbformat": 4,
 "nbformat_minor": 2
}
