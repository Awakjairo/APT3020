{
 "cells": [
  {
   "cell_type": "code",
   "execution_count": 9,
   "metadata": {},
   "outputs": [
    {
     "name": "stdout",
     "output_type": "stream",
     "text": [
      "Medical Diagnosis KnowlwdgeBased System\n",
      "possible symptoms: Common Cold , Flu , Pneumonia , Turberculosis , Allergies , cough , sneezing , Fever\n",
      "\n",
      " Enter your symptoms (comma separated):\n"
     ]
    },
    {
     "ename": "AttributeError",
     "evalue": "'KnowledgeBase' object has no attribute 'symptoms'",
     "output_type": "error",
     "traceback": [
      "\u001b[1;31m---------------------------------------------------------------------------\u001b[0m",
      "\u001b[1;31mAttributeError\u001b[0m                            Traceback (most recent call last)",
      "Cell \u001b[1;32mIn[9], line 43\u001b[0m\n\u001b[0;32m     40\u001b[0m user_input \u001b[38;5;241m=\u001b[39m \u001b[38;5;28minput\u001b[39m(\u001b[38;5;124m\"\u001b[39m\u001b[38;5;124m>\u001b[39m\u001b[38;5;124m\"\u001b[39m)\u001b[38;5;241m.\u001b[39mlower()\u001b[38;5;241m.\u001b[39msplit(\u001b[38;5;124m\"\u001b[39m\u001b[38;5;124m,\u001b[39m\u001b[38;5;124m\"\u001b[39m)\n\u001b[0;32m     42\u001b[0m symptoms \u001b[38;5;241m=\u001b[39m [s\u001b[38;5;241m.\u001b[39mstrip() \u001b[38;5;28;01mfor\u001b[39;00m s \u001b[38;5;129;01min\u001b[39;00m user_input]\n\u001b[1;32m---> 43\u001b[0m diagnoses \u001b[38;5;241m=\u001b[39m \u001b[43mkb\u001b[49m\u001b[38;5;241;43m.\u001b[39;49m\u001b[43mdiagnose\u001b[49m\u001b[43m(\u001b[49m\u001b[43msymptoms\u001b[49m\u001b[43m)\u001b[49m\u001b[38;5;66;03m#call the diagnose method\u001b[39;00m\n\u001b[0;32m     44\u001b[0m \u001b[38;5;28;01mif\u001b[39;00m diagnoses:\n\u001b[0;32m     45\u001b[0m     \u001b[38;5;28mprint\u001b[39m(\u001b[38;5;124m\"\u001b[39m\u001b[38;5;124mPossible diagnoses:\u001b[39m\u001b[38;5;124m\"\u001b[39m)\n",
      "Cell \u001b[1;32mIn[9], line 23\u001b[0m, in \u001b[0;36mKnowledgeBase.diagnose\u001b[1;34m(self, symptoms)\u001b[0m\n\u001b[0;32m     21\u001b[0m \u001b[38;5;28;01mdef\u001b[39;00m\u001b[38;5;250m \u001b[39m\u001b[38;5;21mdiagnose\u001b[39m(\u001b[38;5;28mself\u001b[39m, symptoms):\u001b[38;5;66;03m#method that will take a list of symptoms as input and return a list of possible diseases\u001b[39;00m\n\u001b[0;32m     22\u001b[0m     possible \u001b[38;5;241m=\u001b[39m {}\n\u001b[1;32m---> 23\u001b[0m     \u001b[38;5;28;01mfor\u001b[39;00m symptom \u001b[38;5;129;01min\u001b[39;00m \u001b[38;5;28;43mself\u001b[39;49m\u001b[38;5;241;43m.\u001b[39;49m\u001b[43msymptoms\u001b[49m:\n\u001b[0;32m     24\u001b[0m         \u001b[38;5;28;01mfor\u001b[39;00m disease \u001b[38;5;129;01min\u001b[39;00m \u001b[38;5;28mself\u001b[39m\u001b[38;5;241m.\u001b[39mrelationships\u001b[38;5;241m.\u001b[39mget(symptom,[]):\n\u001b[0;32m     25\u001b[0m             possible[disease] \u001b[38;5;241m=\u001b[39m possible\u001b[38;5;241m.\u001b[39mget(disease,\u001b[38;5;241m0\u001b[39m) \u001b[38;5;241m+\u001b[39m \u001b[38;5;241m1\u001b[39m\n",
      "\u001b[1;31mAttributeError\u001b[0m: 'KnowledgeBase' object has no attribute 'symptoms'"
     ]
    }
   ],
   "source": [
    "# Knowledge based system\n",
    "class KnowledgeBase:\n",
    "    def __init__(self):\n",
    "        self.diseases  = {\n",
    "            \"common cold\": {\"symptoms\": [\"cough\", \"sneezing\", \"sore throat\"], \"treatment\": \"rest and hydration\"},\n",
    "            \"flu\": {\"symptoms\": [\"fever\", \"fatigue\", \"body aches\"], \"treatment\": \"antiviral medication\"},\n",
    "            \"pneumonia\": {\"symptoms\": [\"chestpain\", \"cough\", \"fever\"], \"treatment\": \"antibiotics\"},\n",
    "            \"Turberculosis\": {\"symptoms\": [\"cough with blood\", \"fatigue\", \"weightloss\"], \"treatment\": \"antibiotics\"},\n",
    "            \"Allergies\": {\"symptoms\": [\"sneezing\", \"itchy eyes\", \"rash\"], \"treatment\": \"antihistamines\"},\n",
    "        }\n",
    "        self.relationships = {\n",
    "            \"Common Cold\": [\"Flu\",\"Allergies\"],\n",
    "            \"Flu\": [\"Common Cold\",\"Pneumonia\"],\n",
    "            \"Pneumonia\": [\"Flu\"],\n",
    "            \"Turberculosis\": [],\n",
    "            \"Allergies\": [\"Common Cold\"],\n",
    "            \"cough\": [\"Common Cold\",\"Flu\",\"Pneumonia\",\"Allergies\"],\n",
    "            \"sneezing\": [\"Common Cold\",\"Flu\",\"Allergies\"],\n",
    "            \"Fever\": [\"Common Cold\",\"Flu\",\"Pneumonia\"],\n",
    "        }\n",
    "    def diagnose(self, symptoms):#method that will take a list of symptoms as input and return a list of possible diseases\n",
    "        possible = {}\n",
    "        for symptom in self.symptoms:\n",
    "            for disease in self.relationships.get(symptom,[]):\n",
    "                possible[disease] = possible.get(disease,0) + 1\n",
    "           \n",
    "    #match symptoms to disease\n",
    "        matches = []\n",
    "        for disease, count in possible.items():\n",
    "                total_needed = len(self.diseases[disease][\"symptoms\"])\n",
    "        if count == total_needed and all(s in symptoms for s in self.diseases[disease][\"symptoms\"]):\n",
    "                 matches.append(disease)\n",
    "        return matches\n",
    "\n",
    "#interactive mode\n",
    "kb=KnowledgeBase()\n",
    "print(\"Medical Diagnosis KnowlwdgeBased System\")\n",
    "print(\"possible symptoms:\" ,\" , \".join(kb.relationships.keys()))#print the possible symptoms\n",
    "print(\"\\n Enter your symptoms (comma separated):\")\n",
    "user_input = input(\">\").lower().split(\",\")\n",
    "\n",
    "symptoms = [s.strip() for s in user_input]\n",
    "diagnoses = kb.diagnose(symptoms)#call the diagnose method\n",
    "if diagnoses:\n",
    "    print(\"Possible diagnoses:\")\n",
    "    for disease in diagnoses:#print the possible diagnosis and treatment\n",
    "        print(f\"- {disease}: {kb.diseases[disease]['treatment']}\")\n",
    "else:\n",
    "    print(\"No matching diagnosis found. please consult a doctor for further evaluation\")"
   ]
  }
 ],
 "metadata": {
  "kernelspec": {
   "display_name": "Python 3",
   "language": "python",
   "name": "python3"
  },
  "language_info": {
   "codemirror_mode": {
    "name": "ipython",
    "version": 3
   },
   "file_extension": ".py",
   "mimetype": "text/x-python",
   "name": "python",
   "nbconvert_exporter": "python",
   "pygments_lexer": "ipython3",
   "version": "3.12.2"
  }
 },
 "nbformat": 4,
 "nbformat_minor": 2
}
